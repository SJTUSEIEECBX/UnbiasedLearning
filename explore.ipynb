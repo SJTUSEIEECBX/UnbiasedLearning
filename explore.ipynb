{
 "cells": [
  {
   "cell_type": "code",
   "execution_count": 13,
   "metadata": {},
   "outputs": [],
   "source": [
    "import pandas as pd\n",
    "import numpy as np\n",
    "from tqdm import tqdm_notebook\n",
    "import matplotlib.pyplot as plt\n",
    "import torch.utils.data as data\n",
    "import torch.nn as nn\n",
    "from tqdm import tqdm_notebook\n",
    "import torch"
   ]
  },
  {
   "cell_type": "markdown",
   "metadata": {},
   "source": [
    "Data preparation"
   ]
  },
  {
   "cell_type": "code",
   "execution_count": null,
   "metadata": {},
   "outputs": [],
   "source": [
    "df = pd.DataFrame(pd.read_csv('data_large/train/train.feature', delimiter=\":| \", header=None, engine='python'))\n",
    "df = df[list(filter(lambda x:x%2==1, df.columns))]\n",
    "df.columns = np.arange(0, 136)\n",
    "df.to_csv('data/train/feature.csv', index=False, header=False, sep=',')\n",
    "\n",
    "df = pd.DataFrame(pd.read_csv('data_large/valid/valid.feature', delimiter=\":| \", header=None, engine='python'))\n",
    "df = df[list(filter(lambda x:x%2==1, df.columns))]\n",
    "df.columns = np.arange(0, 136)\n",
    "df.to_csv('data/val/feature.csv', index=False, header=False, sep=',')"
   ]
  },
  {
   "cell_type": "markdown",
   "metadata": {},
   "source": [
    "Read prepared data"
   ]
  },
  {
   "cell_type": "code",
   "execution_count": 74,
   "metadata": {},
   "outputs": [],
   "source": [
    "df = pd.read_csv('data/train/feature.csv', header=None)\n",
    "train_features = df.values\n",
    "df = pd.read_csv('data/test/feature.csv', header=None)\n",
    "test_features = df.values\n",
    "df = pd.read_csv('data/val/feature.csv', header=None)\n",
    "valid_features = df.values\n",
    "\n",
    "train_features = (train_features - train_features.mean(axis=0, keepdims=True)) / train_features.std(axis=0, keepdims=True)\n",
    "valid_features = (valid_features - valid_features.mean(axis=0, keepdims=True)) / valid_features.std(axis=0, keepdims=True)\n",
    "test_features = (test_features - test_features.mean(axis=0, keepdims=True)) / test_features.std(axis=0, keepdims=True)\n",
    "\n",
    "df = pd.read_csv('data/train/train.click', header=None, delim_whitespace=True, index_col=0)\n",
    "train_click = df.values\n",
    "df = pd.read_csv('data/val/valid.click', header=None, delim_whitespace=True, index_col=0)\n",
    "valid_click = df.values\n",
    "\n",
    "df = pd.read_csv('data/train/train.init_list', header=None, delim_whitespace=True, index_col=0)\n",
    "train_init = df.values.astype(int)\n",
    "df = pd.read_csv('data/test/test.init_list', header=None, delim_whitespace=True, index_col=0)\n",
    "test_init = df.values.astype(int)\n",
    "df = pd.read_csv('data/val/valid.init_list', header=None, delim_whitespace=True, index_col=0)\n",
    "valid_init = df.values.astype(int)\n",
    "\n",
    "train_init[train_init < 0] = train_features.shape[0]\n",
    "valid_init[valid_init < 0] = valid_features.shape[0]\n",
    "test_init[test_init < 0] = test_features.shape[0]\n",
    "\n",
    "train_grid, _ = np.meshgrid(np.arange(train_init.shape[1]) + 1, np.arange(train_init.shape[0]))\n",
    "test_grid, _ = np.meshgrid(np.arange(test_init.shape[1]) + 1, np.arange(test_init.shape[0]))\n",
    "valid_grid, _ = np.meshgrid(np.arange(valid_init.shape[1]) + 1, np.arange(valid_init.shape[0]))\n",
    "train_grid = train_grid.astype(np.float64)\n",
    "valid_grid = valid_grid.astype(np.float64)\n",
    "test_grid = test_grid.astype(np.float64)\n",
    "\n",
    "train_click[train_click == 0] = -1\n",
    "valid_click[valid_click == 0] = -1\n",
    "train_click[train_click != train_click] = -1\n",
    "valid_click[valid_click != valid_click] = -1"
   ]
  },
  {
   "cell_type": "code",
   "execution_count": 75,
   "metadata": {
    "scrolled": true
   },
   "outputs": [],
   "source": [
    "def bias_func(click, bias, alpha=1, beta=1):\n",
    "    score = np.zeros_like(bias)\n",
    "    pos = click > 0\n",
    "    neg = click < 0\n",
    "    score[pos] = alpha * click[pos] * bias[pos]\n",
    "    score[neg] = beta * click[neg] / bias[neg]\n",
    "    return score\n",
    "\n",
    "alpha = 1\n",
    "beta = 1\n",
    "\n",
    "train_bias = bias_func(train_click, train_grid, alpha, beta)\n",
    "valid_bias = bias_func(valid_click, valid_grid, alpha, beta)\n",
    "\n",
    "train_scores = np.zeros(train_features.shape[0] + 1)\n",
    "train_cnt = np.zeros(train_features.shape[0] + 1)\n",
    "valid_scores = np.zeros(valid_features.shape[0] + 1)\n",
    "valid_cnt = np.zeros(valid_features.shape[0] + 1)\n",
    "test_scores = np.zeros(test_features.shape[0] + 1)\n",
    "\n",
    "train_scores = np.bincount(train_init.reshape(-1), weights=train_bias.reshape(-1))\n",
    "idx, cnt = np.unique(train_init, return_counts=True)\n",
    "train_cnt[idx] = cnt\n",
    "train_scores[train_cnt > 0] /= train_cnt[train_cnt > 0]\n",
    "train_scores = np.delete(train_scores, -1)\n",
    "train_cnt = np.delete(train_cnt, -1)\n",
    "\n",
    "valid_scores = np.bincount(valid_init.reshape(-1), weights=valid_bias.reshape(-1))\n",
    "idx, cnt = np.unique(valid_init, return_counts=True)\n",
    "valid_cnt[idx] = cnt\n",
    "valid_scores[valid_cnt > 0] /= valid_cnt[valid_cnt > 0]\n",
    "valid_scores = np.delete(valid_scores, -1)\n",
    "valid_cnt = np.delete(valid_cnt, -1)\n",
    "\n",
    "train_scores_avail = train_scores[train_cnt > 0]\n",
    "train_features_avail = train_features[train_cnt > 0]\n",
    "\n",
    "valid_scores_avail = valid_scores[valid_cnt > 0]\n",
    "valid_features_avail = valid_features[valid_cnt > 0]"
   ]
  },
  {
   "cell_type": "code",
   "execution_count": 76,
   "metadata": {},
   "outputs": [],
   "source": [
    "train_loader = data.DataLoader(data.TensorDataset(torch.from_numpy(train_features_avail).to(dtype=torch.float32),\n",
    "                                                  torch.from_numpy(train_scores_avail).to(dtype=torch.float32)),\n",
    "                               batch_size = 20000,\n",
    "                               shuffle = True)\n",
    "\n",
    "valid_loader = data.DataLoader(data.TensorDataset(torch.from_numpy(valid_features_avail).to(dtype=torch.float32),\n",
    "                                                  torch.from_numpy(valid_scores_avail).to(dtype=torch.float32)),\n",
    "                               batch_size = 20000,\n",
    "                               shuffle = False)"
   ]
  },
  {
   "cell_type": "code",
   "execution_count": 21,
   "metadata": {},
   "outputs": [],
   "source": []
  },
  {
   "cell_type": "code",
   "execution_count": 18,
   "metadata": {},
   "outputs": [],
   "source": [
    "class SimpleNet(nn.Module):\n",
    "    def __init__(self, n_feature, n_hidden_unit, n_hidden_layer, activation, dropout):\n",
    "        super(SimpleNet, self).__init__()\n",
    "        self.layers = [nn.Linear(n_feature, n_hidden_unit)]\n",
    "        for i in range(n_hidden_layer - 1):\n",
    "            self.layers.append(activation())\n",
    "            self.layers.append(nn.Dropout(dropout))\n",
    "            self.layers.append(nn.Linear(n_hidden_unit, n_hidden_unit))\n",
    "        self.layers.append(activation())\n",
    "        self.layers.append(nn.Dropout(dropout))\n",
    "        self.layers.append(nn.Linear(n_hidden_unit, 1))\n",
    "        self.layers = nn.ModuleList(self.layers)\n",
    "        \n",
    "    def forward(self, feature):\n",
    "        for module in self.layers:\n",
    "            feature = module(feature)\n",
    "        score = feature.squeeze()\n",
    "        return score"
   ]
  },
  {
   "cell_type": "code",
   "execution_count": 83,
   "metadata": {},
   "outputs": [
    {
     "data": {
      "application/vnd.jupyter.widget-view+json": {
       "model_id": "48d8cf64538b484a86b53d2fc377c436",
       "version_major": 2,
       "version_minor": 0
      },
      "text/plain": [
       "HBox(children=(IntProgress(value=0), HTML(value='')))"
      ]
     },
     "metadata": {},
     "output_type": "display_data"
    },
    {
     "name": "stdout",
     "output_type": "stream",
     "text": [
      "\n"
     ]
    }
   ],
   "source": [
    "EPOCH = 100\n",
    "LR = 1e-4\n",
    "weight_decay = 0.01\n",
    "\n",
    "model = SimpleNet(train_features.shape[1], 3 * train_features.shape[1], 2, nn.LeakyReLU, 0.4).cuda()\n",
    "optimizer = torch.optim.Adam(model.parameters(), lr=LR, weight_decay=weight_decay)\n",
    "loss_func = nn.MSELoss()\n",
    "losses_train = np.zeros(EPOCH)\n",
    "losses_valid = np.zeros(EPOCH)\n",
    "\n",
    "for epoch in tqdm_notebook(range(EPOCH)):\n",
    "    model.train()\n",
    "    for feature, score in train_loader:\n",
    "        feature = feature.cuda()\n",
    "        score = score.cuda()\n",
    "        predict = model(feature)\n",
    "        loss = loss_func(predict, score)\n",
    "        model.zero_grad()\n",
    "        loss.backward()\n",
    "        optimizer.step()\n",
    "        losses_train[epoch] += loss.item() * feature.shape[0]\n",
    "    losses_train[epoch] /= len(train_loader.dataset)\n",
    "        \n",
    "    model.eval()\n",
    "    with torch.no_grad():\n",
    "        for feature, score in valid_loader:\n",
    "            feature = feature.cuda()\n",
    "            score = score.cuda()\n",
    "            predict = model(feature)\n",
    "            loss = loss_func(predict, score)\n",
    "            losses_valid[epoch] += loss.item() * feature.shape[0]\n",
    "        losses_valid[epoch] /= len(valid_loader.dataset)"
   ]
  },
  {
   "cell_type": "code",
   "execution_count": 84,
   "metadata": {},
   "outputs": [
    {
     "data": {
      "image/png": "[encoded data removed]",
      "text/plain": [
       "<Figure size 432x288 with 1 Axes>"
      ]
     },
     "metadata": {
      "needs_background": "light"
     },
     "output_type": "display_data"
    }
   ],
   "source": [
    "plt.plot(losses_train)\n",
    "plt.plot(losses_valid)\n",
    "plt.legend(['train', 'validation'])\n",
    "plt.xlabel('epoch')\n",
    "plt.ylabel('loss')\n",
    "plt.show()"
   ]
  },
  {
   "cell_type": "code",
   "execution_count": 125,
   "metadata": {},
   "outputs": [],
   "source": [
    "test_loader = data.DataLoader(data.TensorDataset(torch.from_numpy(test_features).to(dtype=torch.float32)), batch_size=20000, shuffle=False)\n",
    "model.eval()\n",
    "test_scores = np.array([])\n",
    "with torch.no_grad():\n",
    "    for [feature] in test_loader:\n",
    "        feature = feature.cuda()\n",
    "        score = model(feature)\n",
    "        test_scores = np.concatenate([test_scores, score.cpu().numpy()])\n",
    "test_scores = np.append(test_scores, -np.inf)\n",
    "test_bias = test_scores[test_init]\n",
    "test_order = np.take_along_axis(test_init, np.argsort(-test_bias), axis=1)\n",
    "_, queryId = np.meshgrid(np.arange(test_order.shape[1]), np.arange(test_order.shape[0]))\n",
    "result = np.vstack((queryId.reshape(-1), test_order.reshape(-1)))\n",
    "result = np.delete(result, np.argwhere(result[1, :] == test_order.max()), axis=1)\n",
    "result = result.T\n",
    "df = pd.DataFrame(result, columns=['QueryId', 'DocumentId'])\n",
    "df.to_csv('result/0515.csv', index=False)"
   ]
  },
  {
   "cell_type": "code",
   "execution_count": 120,
   "metadata": {},
   "outputs": [
    {
     "data": {
      "text/plain": [
       "18121"
      ]
     },
     "execution_count": 120,
     "metadata": {},
     "output_type": "execute_result"
    }
   ],
   "source": [
    "(test_init != test_init.max()).sum()"
   ]
  },
  {
   "cell_type": "code",
   "execution_count": 89,
   "metadata": {
    "scrolled": true
   },
   "outputs": [
    {
     "name": "stdout",
     "output_type": "stream",
     "text": [
      "0.23373784\n"
     ]
    }
   ],
   "source": [
    "with torch.no_grad():\n",
    "    for feature, score in valid_loader:\n",
    "        feature = feature.cuda()\n",
    "        predict = model(feature)\n",
    "        print(predict.cpu().numpy().max())\n"
   ]
  },
  {
   "cell_type": "code",
   "execution_count": 93,
   "metadata": {
    "scrolled": true
   },
   "outputs": [
    {
     "name": "stdout",
     "output_type": "stream",
     "text": [
      "2.752284288406372 -1.8168445825576782\n"
     ]
    }
   ],
   "source": []
  },
  {
   "cell_type": "code",
   "execution_count": 82,
   "metadata": {},
   "outputs": [
    {
     "data": {
      "text/plain": [
       "49940"
      ]
     },
     "execution_count": 82,
     "metadata": {},
     "output_type": "execute_result"
    }
   ],
   "source": [
    "(train_click == -1).sum()"
   ]
  },
  {
   "cell_type": "code",
   "execution_count": 43,
   "metadata": {},
   "outputs": [
    {
     "data": {
      "image/png": "[encoded data removed]",
      "text/plain": [
       "<Figure size 432x288 with 1 Axes>"
      ]
     },
     "metadata": {
      "needs_background": "light"
     },
     "output_type": "display_data"
    }
   ],
   "source": [
    "plt.hist(train_bias[train_bias != 0], bins=1000)\n",
    "plt.show()"
   ]
  }
 ],
 "metadata": {
  "kernelspec": {
   "display_name": "Python 3",
   "language": "python",
   "name": "python3"
  },
  "language_info": {
   "codemirror_mode": {
    "name": "ipython",
    "version": 3
   },
   "file_extension": ".py",
   "mimetype": "text/x-python",
   "name": "python",
   "nbconvert_exporter": "python",
   "pygments_lexer": "ipython3",
   "version": "3.7.5"
  }
 },
 "nbformat": 4,
 "nbformat_minor": 4
}
