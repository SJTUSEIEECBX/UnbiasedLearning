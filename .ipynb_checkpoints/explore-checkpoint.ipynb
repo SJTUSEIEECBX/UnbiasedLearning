{
 "cells": [
  {
   "cell_type": "code",
   "execution_count": 148,
   "metadata": {},
   "outputs": [],
   "source": [
    "import pandas as pd\n",
    "import numpy as np\n",
    "from tqdm import tqdm_notebook\n",
    "import matplotlib.pyplot as plt"
   ]
  },
  {
   "cell_type": "markdown",
   "metadata": {},
   "source": [
    "Data preparation"
   ]
  },
  {
   "cell_type": "code",
   "execution_count": null,
   "metadata": {},
   "outputs": [],
   "source": [
    "df = pd.DataFrame(pd.read_csv('data_large/train/train.feature', delimiter=\":| \", header=None, engine='python'))\n",
    "df = df[list(filter(lambda x:x%2==1, df.columns))]\n",
    "df.columns = np.arange(0, 136)\n",
    "df.to_csv('data/train/feature.csv', index=False, header=False, sep=',')\n",
    "\n",
    "df = pd.DataFrame(pd.read_csv('data_large/valid/valid.feature', delimiter=\":| \", header=None, engine='python'))\n",
    "df = df[list(filter(lambda x:x%2==1, df.columns))]\n",
    "df.columns = np.arange(0, 136)\n",
    "df.to_csv('data/val/feature.csv', index=False, header=False, sep=',')"
   ]
  },
  {
   "cell_type": "markdown",
   "metadata": {},
   "source": [
    "Read prepared data"
   ]
  },
  {
   "cell_type": "code",
   "execution_count": 85,
   "metadata": {},
   "outputs": [],
   "source": [
    "df = pd.read_csv('data/train/feature.csv', header=None)\n",
    "train_features = df.values\n",
    "df = pd.read_csv('data/test/feature.csv', header=None)\n",
    "test_features = df.values\n",
    "df = pd.read_csv('data/val/feature.csv', header=None)\n",
    "valid_features = df.values\n",
    "\n",
    "df = pd.read_csv('data/train/train.click', header=None, delim_whitespace=True, index_col=0)\n",
    "train_click = df.values\n",
    "df = pd.read_csv('data/val/valid.click', header=None, delim_whitespace=True, index_col=0)\n",
    "valid_click = df.values\n",
    "\n",
    "df = pd.read_csv('data/train/train.init_list', header=None, delim_whitespace=True, index_col=0)\n",
    "train_init = df.values.astype(int)\n",
    "df = pd.read_csv('data/test/test.init_list', header=None, delim_whitespace=True, index_col=0)\n",
    "test_init = df.values.astype(int)\n",
    "df = pd.read_csv('data/val/valid.init_list', header=None, delim_whitespace=True, index_col=0)\n",
    "valid_init = df.values.astype(int)\n",
    "\n",
    "train_init[train_init < 0] = train_features.shape[0]\n",
    "valid_init[valid_init < 0] = valid_features.shape[0]\n",
    "test_init[test_init < 0] = test_features.shape[0]\n",
    "\n",
    "train_grid, _ = np.meshgrid(np.arange(train_init.shape[1]), np.arange(train_init.shape[0]))\n",
    "test_grid, _ = np.meshgrid(np.arange(test_init.shape[1]), np.arange(test_init.shape[0]))\n",
    "valid_grid, _ = np.meshgrid(np.arange(valid_init.shape[1]), np.arange(valid_init.shape[0]))\n",
    "\n",
    "train_click[train_click == 0] = -1\n",
    "valid_click[valid_click == 0] = -1"
   ]
  },
  {
   "cell_type": "code",
   "execution_count": 157,
   "metadata": {
    "scrolled": true
   },
   "outputs": [],
   "source": [
    "bias_func = lambda theta, click, bias: theta * click * (bias + 1)\n",
    "theta = 1\n",
    "\n",
    "train_bias = bias_func(theta, train_click, train_grid)\n",
    "valid_bias = bias_func(theta, valid_click, valid_grid)\n",
    "\n",
    "train_scores = np.zeros(train_features.shape[0] + 1)\n",
    "train_cnt = np.zeros(train_features.shape[0] + 1)\n",
    "valid_scores = np.zeros(valid_features.shape[0] + 1)\n",
    "valid_cnt = np.zeros(valid_features.shape[0] + 1)\n",
    "test_scores = np.zeros(test_features.shape[0] + 1)\n",
    "\n",
    "for query in range(train_init.shape[0]):\n",
    "    train_scores[train_init[query]] += train_bias[query]\n",
    "idx, cnt = np.unique(train_init, return_counts=True)\n",
    "train_cnt[idx] = cnt\n",
    "train_scores[train_cnt > 0] /= train_cnt[train_cnt > 0]\n",
    "train_scores = np.delete(train_scores, -1)\n",
    "train_cnt = np.delete(train_cnt, -1)\n",
    "\n",
    "for query in range(valid_init.shape[0]):\n",
    "    valid_scores[valid_init[query]] += valid_bias[query]\n",
    "idx, cnt = np.unique(valid_init, return_counts=True)\n",
    "valid_cnt[idx] = cnt\n",
    "valid_scores[valid_cnt > 0] /= valid_cnt[valid_cnt > 0]\n",
    "valid_scores = np.delete(valid_scores, -1)\n",
    "valid_cnt = np.delete(valid_cnt, -1)\n",
    "\n",
    "train_scores = train_scores[train_cnt > 0]\n",
    "train_features = train_features[train_cnt > 0]\n",
    "\n",
    "valid_scores = valid_scores[valid_cnt > 0]\n",
    "valid_features = valid_features[valid_cnt > 0]"
   ]
  },
  {
   "cell_type": "code",
   "execution_count": 163,
   "metadata": {},
   "outputs": [
    {
     "data": {
      "text/plain": [
       "52360"
      ]
     },
     "execution_count": 163,
     "metadata": {},
     "output_type": "execute_result"
    }
   ],
   "source": [
    "idx, inv, cnt = np.unique(train_init, return_inverse=True, return_counts=True)\n",
    "inverse = idx[inv].reshape(train_init.shape)\n",
    "(inverse == train_init).sum()"
   ]
  },
  {
   "cell_type": "code",
   "execution_count": 155,
   "metadata": {},
   "outputs": [
    {
     "data": {
      "image/png": "[encoded data removed]",
      "text/plain": [
       "<Figure size 432x288 with 1 Axes>"
      ]
     },
     "metadata": {
      "needs_background": "light"
     },
     "output_type": "display_data"
    }
   ],
   "source": [
    "plt.hist(train_scores[train_scores != 0], bins=1000)\n",
    "plt.show()"
   ]
  }
 ],
 "metadata": {
  "kernelspec": {
   "display_name": "Python 3",
   "language": "python",
   "name": "python3"
  },
  "language_info": {
   "codemirror_mode": {
    "name": "ipython",
    "version": 3
   },
   "file_extension": ".py",
   "mimetype": "text/x-python",
   "name": "python",
   "nbconvert_exporter": "python",
   "pygments_lexer": "ipython3",
   "version": "3.7.5"
  }
 },
 "nbformat": 4,
 "nbformat_minor": 4
}
